{
 "cells": [
  {
   "cell_type": "markdown",
   "metadata": {},
   "source": [
    "<img src=\"assets/BIP – AI-Driven Service Innovation Summer School 2025.png\" alt=\"BIP – AI-Driven Service Innovation Summer School 2025\"/>\n",
    "  \n",
    "# Introduction to <b>SAS Viya Workbench for Learners</b>\n",
    "Part 1: estimated time to complete 30 minutes\n",
    "<b>SAS Viya Workbench for Learners</b> is a coding/programming  \n",
    "environment available for academic users.\n",
    "\n",
    "It provides post-secondary students and educators easy, online access to SAS, Python and R.\n",
    "## Learning objectives related to this document:\n",
    "* Understand <b>SAS Viya Workbench for Learners</b> main features\n",
    "* Understand the elements and features of a notebook\n",
    "* Understand the difference between <b>python notebooks</b> and <b>sas notebooks</b>\n",
    "* Understand the basics of python coding\n",
    "### What is SAS Viya Workbench for Learners?\n",
    "<B>SAS Viya Workbench for Learners</b> is a free, cloud-based computational environment designed for academic  \n",
    "users, providing post-secondary students and educators with online access to advanced analytics tools. It was  \n",
    "launched in February 2025 and combines SAS's enterprise-grade analytical capabilities with modern development  \n",
    "interfaces, enabling users to build programming skills, develop AI models, and complete projects efficiently.\n",
    "\n",
    "<b>SAS Viya for Learners</b>, also designed for academic use, integrates a suite of visual graphical user interfaces  \n",
    "(GUIs) supporting the entire analytics lifecycle. Most applications in SAS Viya for Learners offer low-code/no-code  \n",
    "options for creation of workflows using wizards and drag-and-drop features. SAS Viya for Learners and SAS Viya  \n",
    "Workbench for Learners complement each other. Both are used extensively in SAS' global student competition  \n",
    "<a href=https://www.sas.com/curiositycup><b>The Curiosity Cup</b></a>.  \n",
    "  \n",
    "<img src=\"assets/TheCuriosityCup.jpg\" alt=\"The Curiosity Cup\"/>\n",
    " \n",
    "### What is a notebook in SAS Viya Workbench for Learners?\n",
    "A document/file that contains a representation of all content visible to you, including inputs and  \n",
    "outputs of the computations, narrative text, equations, images, and rich media representations of  \n",
    "objects. Each notebook document has its own kernel. A kernel is capable of running code in a single  \n",
    "programming language. That programming language can be Python, R or SAS.  \n",
    "\n",
    "The notebooks are usually saved with the extension .ipynb for python, .Rmd for R and .sasnb for SAS.\n",
    "\n",
    "A notebook consists of an ordered list of cells. During these session we will use the following  \n",
    "main cell types:\n",
    "* **Code**; the cell you see just below this one is a code cell\n",
    "* **Markdown**; the cell you are looking at now is a markdown cell.  \n",
    "  \n",
    "Text can be added to notebooks using Markdown cells. Markdown is a popular markup language that is  \n",
    "a superset of HTML. Markdown allows you to write using an easy-to-read, easy-to-write plain text  \n",
    "format. And apply styles to the text using simple <a href=\"https://daringfireball.net/projects/markdown/\">markdown</a> syntax. "
   ]
  },
  {
   "cell_type": "code",
   "execution_count": null,
   "metadata": {
    "collapsed": false
   },
   "outputs": [],
   "source": [
    "# This is a code cell made up of Python comments\n",
    "# We can execute it by clicking the \"Execute Cell\" triangle\n",
    "# or by pressing \"Ctrl + Alt + Enter\""
   ]
  },
  {
   "cell_type": "code",
   "execution_count": null,
   "metadata": {
    "collapsed": false
   },
   "outputs": [],
   "source": [
    "# This code cell has 3 lines with comments and one line of python code.\n",
    "# When executed it generates \"Hello, World\" as output.\n",
    "# The output is shown just below the code cell.\n",
    "\n",
    "print(\"Hello, World\")"
   ]
  },
  {
   "cell_type": "markdown",
   "metadata": {},
   "source": [
    "##### Practice 1\n",
    "What do you need to change in the line print(\"Hello, World\") to get as output    \n",
    "&nbsp;&nbsp;&nbsp;&nbsp;&nbsp;**My first Python code snippit!**  \n",
    " \n",
    "Make the changes and execute the code cell to test your solution."
   ]
  },
  {
   "cell_type": "code",
   "execution_count": null,
   "metadata": {},
   "outputs": [],
   "source": [
    "# This code cell can be used for practice 1 described above\n",
    "# If you prefer to try something else ... just let your curiosty guide you\n",
    "\n",
    "print(\"....\")"
   ]
  },
  {
   "cell_type": "markdown",
   "metadata": {},
   "source": [
    "##### Code cells can also create graphical output\n",
    "The four-line Python script in the code cell below demonstrates a complete data visualization  \n",
    "workflow that transforms numerical data into a visual representation. The code effectively  \n",
    "combines data generation using Python's range function, mathematical transformation through  \n",
    "list comprehension, and graphical display using matplotlib's plotting capabilities. The result  \n",
    "is a clear visualization of the quadratic function y = x², showing how each integer from 0 to 9  \n",
    "relates to its square value.\n",
    "* The first line <b><i>import matplotlib.pyplot as plt</i></b> brings the pyplot module from the matplotlib  \n",
    "library into the program and assigns it a shorter nickname \"plt\". \n",
    "* The second line <b><i>X = range(10)</i></b> creates a sequence of numbers from 0 to 9 and stores it in a  \n",
    "variable called X. \n",
    "* The third line <b><i>plt.plot(X, [x\\*x for x in X])</i></b> creates the actual plot by calling the plot  \n",
    "function with two sets of data. The first parameter X provides the horizontal axis values  \n",
    "(our sequence from 0 to 9), while the second parameter uses a list comprehension [x*x for x in X]  \n",
    "to generate the vertical axis values. \n",
    "* The final line <b><i>plt.show()</i></b> makes the plot visible to the user by opening a window that displays  \n",
    "the graph."
   ]
  },
  {
   "cell_type": "code",
   "execution_count": null,
   "metadata": {
    "collapsed": false
   },
   "outputs": [],
   "source": [
    "import matplotlib.pyplot as plt\n",
    "X = range(10)\n",
    "plt.plot(X, [x*x for x in X])\n",
    "plt.show()"
   ]
  },
  {
   "cell_type": "markdown",
   "metadata": {},
   "source": [
    "#### Python basics\n",
    "A Python library is a collection of files (called modules) that contains functions that you  \n",
    "can use in your code. Some libraries (also referred to as packages) contain standard data  \n",
    "values or language resources that you can reference in your code. SAS Viya Workbench for  \n",
    "Learners has several libraries pre-installed in the environment. The pre-installed pandas  \n",
    "library allows you to work with tables, also called DataFrames. A DataFrame is a two-  \n",
    "dimensional data structure in computer programming languages, similar to an Excel table.\n",
    "\n",
    "The python code example below shows how to create a simple table or DataFrame with sales  \n",
    "data using the pre-installed numpy and pandas libraries in SAS Viya Workbench for Learners."
   ]
  },
  {
   "cell_type": "code",
   "execution_count": null,
   "metadata": {},
   "outputs": [],
   "source": [
    "# import required libraries\n",
    "import numpy as np\n",
    "import pandas as pd\n",
    "\n",
    "# Generate transaction IDs\n",
    "transaction_ids = np.arange(1, 101)\n",
    "\n",
    "# Create date range and random transaction dates\n",
    "date_range = pd.date_range(start='2025-01-01', end='2025-01-31', freq='D')\n",
    "transaction_dates = np.random.choice(date_range, size=100)\n",
    "\n",
    "# Create quantities sold (1-10 units per transaction)\n",
    "quantities = np.random.randint(1, 11, size=100)\n",
    "\n",
    "# Generate unit prices ($10-$100 with 2 decimal precision)\n",
    "unit_prices = np.round(np.random.uniform(10.0, 100.0, size=100), 2)\n",
    "\n",
    "# Create DataFrame\n",
    "df = pd.DataFrame({\n",
    "    'TransactionID': transaction_ids,\n",
    "    'Date': transaction_dates,\n",
    "    'Quantity': quantities,\n",
    "    'UnitPrice': unit_prices\n",
    "})\n",
    "\n",
    "# Calculate total revenue per transaction\n",
    "df['TotalRevenue'] = df['Quantity'] * df['UnitPrice']\n",
    "\n",
    "# Display first 5 rows\n",
    "print(df.head())\n"
   ]
  },
  {
   "cell_type": "markdown",
   "metadata": {},
   "source": [
    "##### Practice 2\n",
    "What do you need to change in the code cell below to \n",
    "- add the variables/columns  \n",
    " - product_ids (10 unique products) and \n",
    " - customer_ids (25 unique customer ids); and\n",
    "- change the quantities (from 10 to 25 units per transaction) \n",
    "- enlarge the date range to end at 15JUN2025 \n",
    "\n",
    "Make the changes and execute the code cell to test your solution."
   ]
  },
  {
   "cell_type": "code",
   "execution_count": null,
   "metadata": {},
   "outputs": [],
   "source": [
    "# This code cell can be used for practice 2 described above\n",
    "\n",
    "# import required libraries\n",
    "import numpy as np\n",
    "import pandas as pd\n",
    "\n",
    "# Generate transaction IDs\n",
    "transaction_ids = np.arange(1, 101)\n",
    "\n",
    "# Create date range and random transaction dates\n",
    "date_range = pd.date_range(start='2025-01-01', end='...', freq='D')\n",
    "transaction_dates = np.random.choice(date_range, size=100)\n",
    "\n",
    "# Generate product IDs (10 unique products)\n",
    "product_ids = np.random.randint(., .., size=100)\n",
    "\n",
    "# Create quantities sold (10-25 units per transaction)\n",
    "quantities = np.random.randint(.., .., size=100)\n",
    "\n",
    "# Generate unit prices ($10-$100 with 2 decimal precision)\n",
    "unit_prices = np.round(np.random.uniform(10.0, 100.0, size=100), 2)\n",
    "\n",
    "# Create customer IDs (25 unique customers)\n",
    "customer_ids = np.random.randint(., .., size=100)\n",
    "\n",
    "# Create DataFrame\n",
    "df = pd.DataFrame({\n",
    "    'TransactionID': transaction_ids,\n",
    "    'Date': transaction_dates,\n",
    "    'ProductID': product_ids,\n",
    "    'Quantity': quantities,\n",
    "    'UnitPrice': unit_prices,\n",
    "    'CustomerID': customer_ids\n",
    "})\n",
    "\n",
    "# Calculate total revenue per transaction\n",
    "df['TotalRevenue'] = df['Quantity'] * df['UnitPrice']\n",
    "\n",
    "# This option is included here to make sure the table is printed as a whole\n",
    "pd.set_option('display.expand_frame_repr', False)\n",
    "\n",
    "# Display first 5 rows\n",
    "print(df.head())"
   ]
  },
  {
   "cell_type": "markdown",
   "metadata": {},
   "source": [
    "#### Are you interested in learning more about python?\n",
    "The repository https://github.com/williamgrimes/teach_python_in_notebooks  \n",
    "contains a collection of python notebooks introducing fundamental programming  \n",
    "concepts in Python. These concepts are common to many programming languages,  \n",
    "and can be applied in other languages with different syntax. The notebooks are  \n",
    "intended to guide students in learning the basic functionality of programming  \n",
    "in Python, as well as introduce some of the most useful Python libraries.\n",
    "\n",
    "You can use SAS Workbench for Learners to work with the notebooks.  \n",
    "Just use the terminal (if the terminal is not open use \"ctrl\" + \"shift\" + \"C\")  \n",
    "and execute the line below and use the EXPLORER in workbench to navigate to  \n",
    "the folder **teach_python_in_notebooks**:  \n",
    "&nbsp;&nbsp;&nbsp;&nbsp;&nbsp;> git clone https://github.com/williamgrimes/teach_python_in_notebooks\n",
    "#### Are you interested in learning more about SAS Viya Workbench for Learners?\n",
    "<a href=\"https://communities.sas.com/t5/SAS-Viya-Workbench-Getting/Demo-SAS-Viya-Workbench-for-Learners-amp-GitHub-project/ta-p/951735\"><img src=\"assets/WFL_demo_communitiesPost.jpg\" alt=\"SAS Viya Workbench for Learners DEMO\"/></a>\n",
    "\n",
    "## Let's take a short break now. \n",
    "\n",
    "After the break we will continue with the base for programming in SAS!\n"
   ]
  }
 ],
 "metadata": {
  "kernelspec": {
   "display_name": "Workbench Python",
   "language": "python",
   "name": "workbench_python"
  },
  "language_info": {
   "codemirror_mode": {
    "name": "ipython",
    "version": 3
   },
   "file_extension": ".py",
   "mimetype": "text/x-python",
   "name": "python",
   "nbconvert_exporter": "python",
   "pygments_lexer": "ipython3",
   "version": "3.11.11"
  }
 },
 "nbformat": 4,
 "nbformat_minor": 0
}
